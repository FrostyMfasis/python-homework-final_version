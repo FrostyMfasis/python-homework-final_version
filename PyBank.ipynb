{
 "cells": [
  {
   "cell_type": "code",
   "execution_count": 4,
   "id": "0e9a2eda-a0fa-4ff4-a425-b1230e4df81e",
   "metadata": {},
   "outputs": [
    {
     "name": "stdout",
     "output_type": "stream",
     "text": [
      "Financial Analysis:\n",
      "Total Months: \n",
      "86\n",
      "Total Profits and Losses:\n",
      "38382578\n",
      "Average Change:\n",
      "-2315.1176470588234\n",
      "Greatest increase of Profit/losses:\n",
      "['Feb-2012', 1926159]\n",
      "Greatest decrease in losses:\n",
      "['Sep-2013', -2196167]\n"
     ]
    }
   ],
   "source": [
    "    \n",
    "from pathlib import Path\n",
    "import csv\n",
    "total_months = 0\n",
    "total_profit_n_loss = 0\n",
    "average_change = []\n",
    "greatest_increase = [\"\" , 0] \n",
    "greatest_decrease = [\"\" , 0]\n",
    "date = []\n",
    "month_change = []\n",
    "\n",
    "\n",
    "with open('Resources/budget_data.csv', 'r') as file:\n",
    "    reader = csv.reader(file)\n",
    "    header = next (reader) \n",
    "    \n",
    "    first_row = next(reader)\n",
    "    total_months +=1\n",
    "    total_profit_n_loss += int (first_row[1])\n",
    "    previous_value = int (first_row[1])\n",
    "    \n",
    "    \n",
    "    \n",
    "    for row in reader:      \n",
    "        total_months +=1\n",
    "        total_profit_n_loss += int (row[1])\n",
    "        change = int(row [1]) - previous_value\n",
    "        average_change.append(change)\n",
    "        previous_value = int(row[1])\n",
    "        month_change = month_change+[row[0]] \n",
    "        if change>greatest_increase[1]:\n",
    "            greatest_increase[0] = row[0]\n",
    "            greatest_increase[1] = change\n",
    "            \n",
    "        if change<greatest_decrease[1]:\n",
    "            greatest_decrease[0] = row[0]\n",
    "            greatest_decrease[1] = change\n",
    "            \n",
    "next_change = sum(average_change)/len(average_change)\n",
    "        \n",
    "    \n",
    "print(\"Financial Analysis:\")\n",
    "print(\"Total Months: \")  \n",
    "print(total_months) \n",
    "print(\"Total Profits and Losses:\")\n",
    "print(total_profit_n_loss)\n",
    "print(\"Average Change:\")\n",
    "# avg_change = sum(average_change)/len(average_change)\n",
    "print(next_change)\n",
    "print(\"Greatest increase of Profit/losses:\")\n",
    "print(greatest_increase)\n",
    "print(\"Greatest decrease in losses:\")\n",
    "print(greatest_decrease)\n",
    "        \n",
    "    \n",
    "\n",
    "    \n",
    "\n"
   ]
  },
  {
   "cell_type": "code",
   "execution_count": null,
   "id": "6691eeb2-b698-4a9f-8407-c4e9cf91c2ea",
   "metadata": {},
   "outputs": [],
   "source": []
  }
 ],
 "metadata": {
  "kernelspec": {
   "display_name": "Python 3 (ipykernel)",
   "language": "python",
   "name": "python3"
  },
  "language_info": {
   "codemirror_mode": {
    "name": "ipython",
    "version": 3
   },
   "file_extension": ".py",
   "mimetype": "text/x-python",
   "name": "python",
   "nbconvert_exporter": "python",
   "pygments_lexer": "ipython3",
   "version": "3.10.11"
  }
 },
 "nbformat": 4,
 "nbformat_minor": 5
}
